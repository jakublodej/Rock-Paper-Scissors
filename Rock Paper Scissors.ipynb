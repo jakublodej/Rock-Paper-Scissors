{
 "cells": [
  {
   "cell_type": "code",
   "execution_count": 1,
   "metadata": {},
   "outputs": [],
   "source": [
    "# Rock Paper scissors"
   ]
  },
  {
   "cell_type": "code",
   "execution_count": null,
   "metadata": {},
   "outputs": [],
   "source": [
    "name1 = input('1st Player name :')\n",
    "name2 = input('2nd Player name :')\n",
    "choice1 = input('P1 - What do you want to choose : paper, rock or scissors? :')\n",
    "choice2 = input('P2 - What do you want to choose : paper, rock or scissors? :')\n",
    "def game(choice1,choice2):\n",
    "    if choice1 == 'paper' and choice2 == 'paper':\n",
    "        return ('its a tie')\n",
    "    elif choice1 == 'paper' and choice2 == 'rock':\n",
    "        return ('{} wins'.format(name1))\n",
    "    elif choice1 == 'paper' and choice2 == 'scissors':\n",
    "        return ('{} wins'.format(name2))\n",
    "    elif choice1 == 'rock' and choice2 == 'rock':\n",
    "        return ('its a tie')\n",
    "    elif choice1 == 'rock' and choice2 == 'paper':\n",
    "        return ('{} wins'.format(name2))\n",
    "    elif choice1 == 'rock' and choice2 == 'scissors':\n",
    "        return ('{} wins'.format(name1))\n",
    "    elif choice1 == 'scissors' and choice2 == 'scissors':\n",
    "        return ('its a tie')\n",
    "    elif choice1 == 'scissors' and choice2 == 'paper':\n",
    "        return ('{} wins'.format(name1))\n",
    "    elif choice1 == 'scissors' and choice2 == 'rock':\n",
    "        return ('{} wins'.format(name2))\n",
    "    else:\n",
    "        return ('wrong choice')\n",
    "    \n",
    "\n",
    "print(game(choice1,choice2))\n",
    "\n",
    "\n",
    "    \n",
    "        \n",
    "\n",
    "\n",
    "                "
   ]
  },
  {
   "cell_type": "code",
   "execution_count": null,
   "metadata": {},
   "outputs": [],
   "source": []
  }
 ],
 "metadata": {
  "kernelspec": {
   "display_name": "Python 3",
   "language": "python",
   "name": "python3"
  },
  "language_info": {
   "codemirror_mode": {
    "name": "ipython",
    "version": 3
   },
   "file_extension": ".py",
   "mimetype": "text/x-python",
   "name": "python",
   "nbconvert_exporter": "python",
   "pygments_lexer": "ipython3",
   "version": "3.6.5"
  }
 },
 "nbformat": 4,
 "nbformat_minor": 2
}
